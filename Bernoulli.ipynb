{
  "nbformat": 4,
  "nbformat_minor": 0,
  "metadata": {
    "colab": {
      "name": "Bernoulli.ipynb",
      "version": "0.3.2",
      "provenance": [],
      "include_colab_link": true
    },
    "kernelspec": {
      "name": "python3",
      "display_name": "Python 3"
    }
  },
  "cells": [
    {
      "cell_type": "markdown",
      "metadata": {
        "id": "view-in-github",
        "colab_type": "text"
      },
      "source": [
        "<a href=\"https://colab.research.google.com/github/prayerx/Probability/blob/master/Bernoulli.ipynb\" target=\"_parent\"><img src=\"https://colab.research.google.com/assets/colab-badge.svg\" alt=\"Open In Colab\"/></a>"
      ]
    },
    {
      "cell_type": "markdown",
      "metadata": {
        "id": "LGzmV8fOPVDD",
        "colab_type": "text"
      },
      "source": [
        "# Bernoulli\n",
        "Bernoulli dağılımı olasılık kuramı ve istatistik bilim dallarında, p olasılıkla başarı ile 1 değeri alan ve {\\displaystyle q=1-p} {\\displaystyle q=1-p} olasılıkla başarısızlık ile 0 değeri alan bir ayrık olasılık dağılımıdır.\n",
        "\n",
        "Eğer X Bernoulli dağılımı gösteren bir rassal değişken ise;\n",
        "\n",
        "![alt text](https://wikimedia.org/api/rest_v1/media/math/render/svg/177e9a8b34ae70324bc207cf1a1146669cdc19c9)\n",
        "\n",
        "Bu dağılımın olasılık kütle fonksiyonu f şöyle ifade edilir:\n",
        "\n",
        "![alt text](https://wikimedia.org/api/rest_v1/media/math/render/svg/62969105d2699a257f22a305b1cad951e654d61f)\n",
        "\n",
        "\n",
        "**Örnek**\n",
        "\n",
        "Bir öğrenci olasılık dersinden geçme olasılığının 0.7 olduğunu düşünmektedir. Bernoulli olasılık dağılım fonskiyonunu yazınız.\n",
        "\n",
        "Öğrenci dersten geçerse X rassal değişkeni x = 1 ve kalırsa x = 0 değerini alırsa, X rassal değişkeninin olasılık dağılımı şöyle yazılabilir:\n",
        "\n",
        "$P(x = 1) = 0.7  ve  P(x = 0) = 0.3$\n",
        "\n",
        "x’in alacağı 1 ve 0 değerlerine göre olasılık dağılımı aşağıdaki gibi bulunur.\n",
        "\n",
        "$(x = 1) için (0.7)^1 * (0.3)^0$\n",
        "\n",
        "$(x = 0) için (0.7)^0 * (0.3)^1$"
      ]
    },
    {
      "cell_type": "code",
      "metadata": {
        "id": "EvhWH3XcCVF-",
        "colab_type": "code",
        "colab": {
          "base_uri": "https://localhost:8080/",
          "height": 85
        },
        "outputId": "f4e74cd6-350b-47d0-f3d3-3b99b41724b8"
      },
      "source": [
        "import math\n",
        "\n",
        "print(\"P(x = 1) =\", pow(0.7, 1) * pow(0.3, 0))\n",
        "print(\"P(x = 0) =\", pow(0.7, 0) * pow(0.3, 1))"
      ],
      "execution_count": 11,
      "outputs": [
        {
          "output_type": "stream",
          "text": [
            "\n",
            "P(x = 1) = 0.7\n",
            "\n",
            "P(x = 0) = 0.3\n"
          ],
          "name": "stdout"
        }
      ]
    }
  ]
}