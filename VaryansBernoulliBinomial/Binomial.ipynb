{
  "nbformat": 4,
  "nbformat_minor": 0,
  "metadata": {
    "colab": {
      "name": "Binomial.ipynb",
      "version": "0.3.2",
      "provenance": [],
      "include_colab_link": true
    },
    "kernelspec": {
      "name": "python3",
      "display_name": "Python 3"
    }
  },
  "cells": [
    {
      "cell_type": "markdown",
      "metadata": {
        "id": "view-in-github",
        "colab_type": "text"
      },
      "source": [
        "<a href=\"https://colab.research.google.com/github/prayerx/Probability/blob/master/Binomial.ipynb\" target=\"_parent\"><img src=\"https://colab.research.google.com/assets/colab-badge.svg\" alt=\"Open In Colab\"/></a>"
      ]
    },
    {
      "cell_type": "markdown",
      "metadata": {
        "id": "LGzmV8fOPVDD",
        "colab_type": "text"
      },
      "source": [
        "# Binomial\n",
        "Genel olarak, eğer rastgele X değişkeni n ∈ ℕ ve p ∈ [0,1] parametreleriyle binom dağılımını takip ederse, X ~ B (n, p) yazarız. N denemede tam olarak başarı kazanma olasılığı, olasılık kütle fonksiyonu ile verilmiştir.\n",
        "\n",
        "![alt text](https://wikimedia.org/api/rest_v1/media/math/render/svg/b872c2c7bfaa26b16e8a82beaf72061b48daaf8e)\n",
        "\n",
        "**Örnek**\n",
        "\n",
        "İçerisinde 12 kırmızı 8 mavi top bulunan bir torbadan 3 top çekildiğinde 2 mavi top çekilme olasılığı nedir?\n",
        "\n",
        "$\\left(\\frac{3}{2}\\right) 0.4^2 (1-0.4)^(3-2)$\n",
        "\n",
        "$\\frac{3!}{2!(3-2)!}\\ 0.16*0.6= 0.288$\n",
        "\n"
      ]
    },
    {
      "cell_type": "code",
      "metadata": {
        "id": "EvhWH3XcCVF-",
        "colab_type": "code",
        "colab": {
          "base_uri": "https://localhost:8080/",
          "height": 34
        },
        "outputId": "4288e78a-2d10-4eba-c8d3-5e22349f0503"
      },
      "source": [
        "import math\n",
        "\n",
        "def factorial(i): \n",
        "    if (i == 1):       \n",
        "        return 1\n",
        "    else: \n",
        "        return i * factorial(i - 1)\n",
        "    \n",
        "def combination(j, k):\n",
        "    if (j < k):\n",
        "        print(\"\\nj < k\")\n",
        "   \n",
        "    elif (j == k):\n",
        "        print(\"1\")\n",
        "    elif (j > k):\n",
        "        #(n Faktöriyel)\n",
        "        s = 1\n",
        "        s = factorial(j) \n",
        "        #(m Faktöriyel)\n",
        "        l = 1\n",
        "        l = factorial(k) \n",
        "        #(n - m Faktöriyel)\n",
        "        f = 1\n",
        "        f = factorial(j - k) \n",
        "        w = s / (l * f)\n",
        "        return w\n",
        "\n",
        "prob = combination(3, 2) * pow(0.4, 2) * pow((1 - 0.4), (3 - 2))\n",
        "print(\"3 toptan 2sinin mavi olma olasılığı =\", prob)"
      ],
      "execution_count": 14,
      "outputs": [
        {
          "output_type": "stream",
          "text": [
            "3 toptan 2sinin mavi olma olasılığı = 0.28800000000000003\n"
          ],
          "name": "stdout"
        }
      ]
    }
  ]
}
