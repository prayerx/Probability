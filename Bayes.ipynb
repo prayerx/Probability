{
  "nbformat": 4,
  "nbformat_minor": 0,
  "metadata": {
    "colab": {
      "name": "Untitled",
      "version": "0.3.2",
      "provenance": [],
      "include_colab_link": true
    },
    "kernelspec": {
      "name": "python3",
      "display_name": "Python 3"
    }
  },
  "cells": [
    {
      "cell_type": "markdown",
      "metadata": {
        "id": "view-in-github",
        "colab_type": "text"
      },
      "source": [
        "<a href=\"https://colab.research.google.com/github/prayerx/Probability/blob/master/Bayes.ipynb\" target=\"_parent\"><img src=\"https://colab.research.google.com/assets/colab-badge.svg\" alt=\"Open In Colab\"/></a>"
      ]
    },
    {
      "metadata": {
        "id": "R8jdDa4_Vz9Y",
        "colab_type": "text"
      },
      "cell_type": "markdown",
      "source": [
        "# Bayes Teoremi\n",
        "\n",
        "Olasılık teorisi içinde incelenen bir 'olay olarak B olayına koşullu bir A olayı (yani B olayının bilindiği halde A olayı) için olasılık değeri, A olayına koşullu olarak B olayı (yani A olayı bilindiği haldeki B olayı) için olasılık değerinden farklıdır. Ancak bu iki birbirine ters koşulluluk arasında çok belirli bir ilişki vardır ve bu ilişkiye (ilk açıklayan istatistikçi İngiliz Thomas Bayes (1702–1761) adına atfen) Bayes Teoremi denilmektedir.\n",
        "\n",
        "**Hastalık Örneği**\n",
        "\n",
        "Örnek: Bir araştırmaya göre her 72 çocuktan 1 tanesi, yetişkinlikte ortaya çıkan belli bir hastalığa yakalanmakta ve tam güvenilir olmamasına rağmen yapılan test sonuçlarına göre, hastalıklı bir çocuğun testi %85 pozitif, sağlıklı bir çocuğun testi ise %15 pozitif sonuç vermektedir. Bu bilgilere göre test sonucu pozitif olan bir çocuğun gerçekten hasta olma olasılığı nedir?\n",
        "\n",
        "P(A) : Çocuğun hasta olması olasılığı = 1/72\n",
        "\n",
        "P(B) : Testin pozitif çıkması olasılığı = 1/72 x 0.85 + 71/72 x 0.15 = 0.159\n",
        "\n",
        "P(A|B) : Pozitif çıkan testin hastalık çıkma olasılığı ( sorulan bu )\n",
        "\n",
        "P(B|A) : Hastalıklı çocuğun testinin pozitif çıkma olasılığı = 0.85\n",
        "\n",
        "P(A|B)=P(B|A)*P(A)/P(B) => (0.85 x 1/72) / (0.159) = 0.074 = %7.4 bulunur.\n",
        "\n"
      ]
    },
    {
      "metadata": {
        "id": "-Q3g0DaQOkm2",
        "colab_type": "code",
        "colab": {
          "base_uri": "https://localhost:8080/",
          "height": 34
        },
        "outputId": "33def443-4c38-4e33-b851-9e5ede55fbc2"
      },
      "cell_type": "code",
      "source": [
        "import math\n",
        "\n",
        "pa = 1/72\n",
        "\n",
        "pba = 0.85\n",
        "\n",
        "pb = pa * pba + 71/72 * 0.15 \n",
        "\n",
        "pab = (pba * pa) / pb\n",
        "\n",
        "\n",
        "print (\"Pozitif çıkan testin hastalık çıkma olasılığı %f\"%pab)\n"
      ],
      "execution_count": 6,
      "outputs": [
        {
          "output_type": "stream",
          "text": [
            "Pozitif çıkan testin hastalık çıkma olasılığı 0.073913\n"
          ],
          "name": "stdout"
        }
      ]
    },
    {
      "metadata": {
        "id": "mYbP-ocjQrpE",
        "colab_type": "text"
      },
      "cell_type": "markdown",
      "source": [
        "**Kaynaklar**\n",
        "\n",
        "1.   https://tr.wikipedia.org/wiki/Bayes_teoremi\n",
        "2.   https://medium.com/@enginunal/bayes-teoremi-431543ad9a59\n",
        "\n",
        "Enes YILDIRIM - 185112053\n",
        "\n"
      ]
    }
  ]
}