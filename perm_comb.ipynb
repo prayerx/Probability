{
  "nbformat": 4,
  "nbformat_minor": 0,
  "metadata": {
    "colab": {
      "name": "perm-comb.ipynb",
      "version": "0.3.2",
      "provenance": [],
      "include_colab_link": true
    },
    "kernelspec": {
      "name": "python3",
      "display_name": "Python 3"
    }
  },
  "cells": [
    {
      "cell_type": "markdown",
      "metadata": {
        "id": "view-in-github",
        "colab_type": "text"
      },
      "source": [
        "<a href=\"https://colab.research.google.com/github/prayerx/Probability/blob/master/perm_comb.ipynb\" target=\"_parent\"><img src=\"https://colab.research.google.com/assets/colab-badge.svg\" alt=\"Open In Colab\"/></a>"
      ]
    },
    {
      "metadata": {
        "id": "vPKXe4EuYk6Q",
        "colab_type": "text"
      },
      "cell_type": "markdown",
      "source": [
        "# **Permütasyon**\n",
        "\n",
        "n ve r birer doğal sayı ve r≤n olmak üzere, n elemanlı bir kümenin, herhangi r elemanının bir sıra üzerindeki birbirinden farklı her bir dizilişinin sayısı P(n,r) şeklinde gösterilir. Permütasyon nesnelerin sıralanış(diziliş) sayısını bulmamızı sağlar. Tekrarsız permütasyon aşağıdaki formül ile gösterilir.\n",
        "\n",
        "\n",
        "> > >  ![alt text](https://wikimedia.org/api/rest_v1/media/math/render/svg/ca5ad5399892a915734c9633d0a80a87415e1a25)\n",
        "\n",
        "\n",
        "**Örnek**\n",
        "\n",
        "8 kişilik bir arkadaş grubunda 5 kişi fotoğraf çekilecektir, bu 5 kişi kaç farklı şekilde sıralanabilir?\n",
        "Bu örnekteki 8 arkadaş formüldeki n sayısına, fotoğraf çekilecek 5 kişi de r' ye karşılık gelir.\n",
        "\n",
        "P(8,5) = 8! / (8-5)! = 6720\n",
        "\n",
        "Sonucuna ulaşırız, örneğimizin koda dökülmüş hali de aşağıdaki gibi olacaktır:"
      ]
    },
    {
      "metadata": {
        "id": "_5QhJkKbeA1n",
        "colab_type": "code",
        "colab": {
          "base_uri": "https://localhost:8080/",
          "height": 34
        },
        "outputId": "b075a39a-7688-46dd-fbfc-ea57398fd395"
      },
      "cell_type": "code",
      "source": [
        "import math\n",
        "people = 8\n",
        "select = 5\n",
        "\n",
        "result = math.factorial(people) / math.factorial(people-select)\n",
        "\n",
        "print (\"%d\"%result)"
      ],
      "execution_count": 6,
      "outputs": [
        {
          "output_type": "stream",
          "text": [
            "6720\n"
          ],
          "name": "stdout"
        }
      ]
    },
    {
      "metadata": {
        "id": "FUzmcMQVfvWU",
        "colab_type": "text"
      },
      "cell_type": "markdown",
      "source": [
        "# **Kombinasyon**\n",
        "\n",
        " n elemanlı bir kümenin elemanlarıyla oluşturulan grupların her birine kombinasyon adı verilir. Küme içinde elemanların sırasının önemli olmadığı gibi kombinasyonlarda da sıranın önemi yoktur. Kombinasyon aşağıdaki formül ile hesaplanır\n",
        "\n",
        "\n",
        "> > >  ![alt text](https://wikimedia.org/api/rest_v1/media/math/render/svg/636043611bc91ed6213be78a1b0f64ee6091d717)\n",
        "\n",
        "\n",
        "**Örnek**\n",
        "\n",
        "8 kişilik bir arkadaş grubunda 5 kişi fotoğraf çekilecektir, bu 5 kişi kaç farklı şekilde seçilebilir?\n",
        "Bu örnekteki 8 arkadaş formüldeki n sayısına, fotoğraf çekilecek 5 kişi de r' ye karşılık gelir.\n",
        "\n",
        "P(8,5) = 8! / (5! x(8-5)!) = 56\n",
        "\n",
        "Sonucuna ulaşırız, örneğimizin koda dökülmüş hali de aşağıdaki gibi olacaktır:"
      ]
    },
    {
      "metadata": {
        "id": "vCrQeqrLg_6R",
        "colab_type": "code",
        "colab": {
          "base_uri": "https://localhost:8080/",
          "height": 34
        },
        "outputId": "cd34b093-cb10-476a-8b86-f1370cae6bd3"
      },
      "cell_type": "code",
      "source": [
        "import math\n",
        "people = 8\n",
        "select = 5\n",
        "\n",
        "result = math.factorial(people) / (math.factorial(select) * math.factorial(people-select))\n",
        "\n",
        "print (\"%d\"%result)"
      ],
      "execution_count": 7,
      "outputs": [
        {
          "output_type": "stream",
          "text": [
            "56\n"
          ],
          "name": "stdout"
        }
      ]
    },
    {
      "metadata": {
        "id": "_rc1VUtihdWS",
        "colab_type": "text"
      },
      "cell_type": "markdown",
      "source": [
        "**Soruces**\n",
        "\n",
        "1.   http://www.matematikdefterim.net/konular/10-sinif-konu-anlatimlari/permutasyon\n",
        "2.   https://tr.wikipedia.org/wiki/Perm%C3%BCtasyon\n",
        "3.   https://www.matematikciler.com/8-sinif-kombinasyon-permutasyon/\n",
        "4.   https://tr.wikipedia.org/wiki/Kombinasyon\n",
        "\n",
        "Enes Yıldırım - 185112053\n",
        "\n",
        "\n",
        "\n"
      ]
    }
  ]
}