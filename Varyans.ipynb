{
  "nbformat": 4,
  "nbformat_minor": 0,
  "metadata": {
    "colab": {
      "name": "Varyans.ipynb",
      "version": "0.3.2",
      "provenance": [],
      "include_colab_link": true
    },
    "kernelspec": {
      "name": "python3",
      "display_name": "Python 3"
    }
  },
  "cells": [
    {
      "cell_type": "markdown",
      "metadata": {
        "id": "view-in-github",
        "colab_type": "text"
      },
      "source": [
        "<a href=\"https://colab.research.google.com/github/prayerx/Probability/blob/master/Varyans.ipynb\" target=\"_parent\"><img src=\"https://colab.research.google.com/assets/colab-badge.svg\" alt=\"Open In Colab\"/></a>"
      ]
    },
    {
      "cell_type": "markdown",
      "metadata": {
        "id": "LGzmV8fOPVDD",
        "colab_type": "text"
      },
      "source": [
        "# Varyans\n",
        "Olasılık kuramı ve istatistik bilim dallarında varyans bir rassal değişken, bir olasılık dağılımı veya örneklem için istatistiksel yayılımın, mümkün bütün değerlerin beklenen değer veya ortalamadan uzaklıklarının karelerinin ortalaması şeklinde bulunan bir ölçüdür. Ortalama bir dağılımın merkezsel konum noktasını bulmaya çalışırken, varyans değerlerin ne ölçekte veya ne derecede yaygın olduklarını tanımlamayı hedef alır. Varyans için ölçülme birimi orijinal değişkenin biriminin karesidir. Varyansın kare kökü standart sapma olarak adlandırılır; bunun ölçme birimi orijinal değişkenle aynı birimde olur ve bu nedenle daha kolayca yorumlanabilir.\n",
        "\n",
        "Varyans, bir veri setinin nasıl dağıldığının ölçüsüdür. Düşük varyans, verilerinle uyumlu olduğunun bir göstergesi olduğundan istatistiksel modeller oluştururken kullanışlıdır.\n",
        "\n",
        "**Örnek**\n",
        "Bir zar atışı için beklenen değer ve varyans hesaplarını gerçekleştirelim.\n",
        "\n",
        "Beklenen değer: $E[X] = 1(1/6) + 2(1/6) + 3(1/6) + 4(1/6) + 5(1/6) + 6(1/6) = 7/2$ olarak hesaplanır.\n",
        "\n",
        "![alt text](https://wikimedia.org/api/rest_v1/media/math/render/svg/0c05e3cbcd0de64496a108e539643b5dc214157e)\n",
        "\n",
        "![alt text](https://wikimedia.org/api/rest_v1/media/math/render/svg/70a10ce1ce80910b55ee1bdc3a5bb66128fdee3d)\n",
        "\n",
        "![alt text](https://wikimedia.org/api/rest_v1/media/math/render/svg/d027c9b054a69ef4b047124640f33b2ecc8a5d6f)\n",
        "\n",
        "![alt text](https://wikimedia.org/api/rest_v1/media/math/render/svg/9a41ba1649749f176eb6c21de72844d6eb3be99d)\n",
        "\n",
        "$E[X^2]= (1^2)1/6 + (2^2)1/6 + (3^2)1/6 + (4^2)1/6 + (5^2)1/6 + (6^2)1/6 = 91/6 $\n",
        "\n",
        "$Var(X) = E[X^2] - E[X]^2 = 91/6 - (7/2)^2 = 35/12 = 2,916$"
      ]
    },
    {
      "cell_type": "code",
      "metadata": {
        "id": "EvhWH3XcCVF-",
        "colab_type": "code",
        "colab": {
          "base_uri": "https://localhost:8080/",
          "height": 68
        },
        "outputId": "c8e36613-6a74-4580-dd75-d4a97c5dc59a"
      },
      "source": [
        "import math\n",
        "values = [1,2,3,4,5,6]\n",
        "\n",
        "prob = 1/6\n",
        "\n",
        "expected = sum(values)*prob\n",
        "print('Beklenen değer:',expected)\n",
        "\n",
        "i = 0\n",
        "expectedsq = 0\n",
        "while(i<6):\n",
        "  expectedsq += (values[i]*values[i]*1/6)\n",
        "  i +=1\n",
        "  \n",
        "print('Rastgele değişkenin karesinin beklenen değeri:',expectedsq)\n",
        "\n",
        "varyans = expectedsq - expected*expected\n",
        "print('Varyans:',varyans)"
      ],
      "execution_count": 10,
      "outputs": [
        {
          "output_type": "stream",
          "text": [
            "Beklenen değer: 3.5\n",
            "Rastgele değişkenin karesinin beklenen değeri: 15.166666666666668\n",
            "Varyans: 2.916666666666668\n"
          ],
          "name": "stdout"
        }
      ]
    }
  ]
}