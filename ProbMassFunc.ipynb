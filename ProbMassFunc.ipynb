{
  "nbformat": 4,
  "nbformat_minor": 0,
  "metadata": {
    "colab": {
      "name": "Untitled0.ipynb",
      "version": "0.3.2",
      "provenance": [],
      "collapsed_sections": [],
      "include_colab_link": true
    },
    "kernelspec": {
      "name": "python3",
      "display_name": "Python 3"
    }
  },
  "cells": [
    {
      "cell_type": "markdown",
      "metadata": {
        "id": "view-in-github",
        "colab_type": "text"
      },
      "source": [
        "<a href=\"https://colab.research.google.com/github/prayerx/Probability/blob/master/ProbMassFunc.ipynb\" target=\"_parent\"><img src=\"https://colab.research.google.com/assets/colab-badge.svg\" alt=\"Open In Colab\"/></a>"
      ]
    },
    {
      "cell_type": "markdown",
      "metadata": {
        "id": "sAGDC2Fd5Hc8",
        "colab_type": "text"
      },
      "source": [
        "#Olasılık Kütle Fonksiyonu \n",
        "\n",
        "Olasılık kuramı bilim dalında bir olasılık kütle fonksiyonu bir ayrık rassal değişkenin olasılığının tıpatıp belli bir değere eşit olduğunu gösteren bir fonksiyondur.\n",
        "\n",
        "Eğer X  S ⊆ R örneklem uzayında bazı sayılabilir değerleri alabilen bir ayrık rassal değişken ise, o halde X için verilmiş,  fX(x) , olasılık kütle fonksiyonu, şöyle ifade edilir:\n",
        "\n",
        ">>>>>![alt text](http://i64.tinypic.com/210eefp.png)\n",
        "\n",
        "\n",
        "\n",
        "\n",
        "\n",
        "Dikkat edilirse bu çok açık bir surette,  fX(x)  fonksiyonunu tüm reel sayılar için tanımlamaktadir; ama birçok sayı değerine sıfır olasılık saptanmaktadır.\n",
        "\n",
        "Olasılık kütle fonksiyonlarinda bulunan süreksizlik, bir ayrık rassal değişken için yığmalı dağılım fonksiyonun süreksiz olması gerçeğini yansıtmaktadır. Bu fonksiyonun eğer türevini almak mümkün ise (yani x ∈ R\\S olduğu hallerde) bu türev değeri sıfır olmaktadır; bu noktalar, aynen olasılık kütle fonksiyonunun sıfıra eşit olduğu noktalardır.\n",
        "\n",
        "\n",
        "**Örnek**\n",
        "\n",
        "[1,1,1,1,2,2,2,2,3,3,4,5,5] örnek uzayı için olasılık kütle fonksiyonunu bulup grafiğini çizelim."
      ]
    },
    {
      "cell_type": "code",
      "metadata": {
        "colab_type": "code",
        "outputId": "553da6a5-a2a8-440b-bce2-5951a7d14048",
        "id": "1lFDoDwMIVH3",
        "colab": {
          "base_uri": "https://localhost:8080/",
          "height": 350
        }
      },
      "source": [
        "import collections\n",
        "import matplotlib.pyplot as plt\n",
        "import numpy as np\n",
        "x = [1,1,1,1,1,2,2,2,3,3,3,4,5,5,6,6,6,6]\n",
        "sayac = collections.Counter(x)\n",
        "print(sayac)\n",
        "print (\"Örnek uzayın eleman sayısı:\",len(x))\n",
        "\n",
        "# Convert frequency to probability - divide each frequency value by total number of values\n",
        "pmf = []\n",
        "print(\"Elemanların olasılıkları:\")\n",
        "for key,val in sayac.items():\n",
        "    pmf.append(round(val/len(x), 2))\n",
        "print(sayac.keys(), pmf)\n",
        "\n",
        "np.array(pmf).sum()\n",
        "1.0\n",
        "%matplotlib inline\n",
        "plt.style.use('ggplot')\n",
        "\n",
        "plt.stem(sayac.keys(), pmf);\n",
        "plt.title (\"Olasılık Kütle Fonksiyonu\");\n",
        "\n"
      ],
      "execution_count": 26,
      "outputs": [
        {
          "output_type": "stream",
          "text": [
            "Counter({1: 5, 6: 4, 2: 3, 3: 3, 5: 2, 4: 1})\n",
            "Örnek uzayın eleman sayısı: 18\n",
            "Elemanların olasılıkları:\n",
            "dict_keys([1, 2, 3, 4, 5, 6]) [0.28, 0.17, 0.17, 0.06, 0.11, 0.22]\n"
          ],
          "name": "stdout"
        },
        {
          "output_type": "display_data",
          "data": {
            "image/png": "[encoded data removed]",
            "text/plain": [
              "<Figure size 432x288 with 1 Axes>"
            ]
          },
          "metadata": {
            "tags": []
          }
        }
      ]
    },
    {
      "cell_type": "markdown",
      "metadata": {
        "id": "-uQDO6gpI1N3",
        "colab_type": "text"
      },
      "source": [
        "\n",
        "**Kaynaklar**\n",
        "\n",
        "*   https://tr.wikipedia.org/wiki/Olas%C4%B1l%C4%B1k_k%C3%BCtle_fonksiyonu\n",
        "*   https://github.com/learn-co-students/dsc-1-09-06-the-probability-mass-function-nyc-career-ds-102218\n",
        "\n",
        "Enes YILDIRIM - 185112053"
      ]
    }
  ]
}